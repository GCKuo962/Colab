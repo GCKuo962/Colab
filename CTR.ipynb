{
  "nbformat": 4,
  "nbformat_minor": 0,
  "metadata": {
    "colab": {
      "provenance": [],
      "authorship_tag": "ABX9TyMThCFasWKsEFXSbmmj0Y//",
      "include_colab_link": true
    },
    "kernelspec": {
      "name": "python3",
      "display_name": "Python 3"
    },
    "language_info": {
      "name": "python"
    }
  },
  "cells": [
    {
      "cell_type": "markdown",
      "metadata": {
        "id": "view-in-github",
        "colab_type": "text"
      },
      "source": [
        "<a href=\"https://colab.research.google.com/github/GCKuo962/Colab/blob/main/CTR.ipynb\" target=\"_parent\"><img src=\"https://colab.research.google.com/assets/colab-badge.svg\" alt=\"Open In Colab\"/></a>"
      ]
    },
    {
      "cell_type": "markdown",
      "source": [
        "# 廣告點擊率 Ads Click – Through Rate（CTR）資料分析報告\n",
        "\n",
        "\n",
        "---\n",
        "\n",
        "\n",
        "\n",
        "> 資料簡介\n",
        "\n"
      ],
      "metadata": {
        "id": "7FRfYuyMaNW7"
      }
    },
    {
      "cell_type": "markdown",
      "source": [
        "### 步驟一：將公用數據集 CTR Prediction - 2022 DIGIX Global AI Challenge，上傳至 Google 雲端硬碟中。"
      ],
      "metadata": {
        "id": "PgdpIQLGbICk"
      }
    },
    {
      "cell_type": "markdown",
      "source": [
        "首先，由 [Kaggle CTR Prediction - 2022 DIGIX Global AI Challenge](https://www.kaggle.com/datasets/xiaojiu1414/digix-global-ai-challenge) 下載所對應的資料，並將指定資料檔案 **train_data_ads.csv** 上傳至 Google 雲端硬碟中，以便於後續資料分析讀取所使用。"
      ],
      "metadata": {
        "id": "vUp0kTiEdKa_"
      }
    },
    {
      "cell_type": "markdown",
      "source": [
        "### 步驟二：開啟 Google Colab otebook 讀取數據。"
      ],
      "metadata": {
        "id": "4E34edrqbNd-"
      }
    },
    {
      "cell_type": "code",
      "source": [
        "from google.colab import drive\n",
        "import pandas as pd\n",
        "drive.mount(\"/content/drive\")"
      ],
      "metadata": {
        "colab": {
          "base_uri": "https://localhost:8080/"
        },
        "id": "jEag7wot67KZ",
        "outputId": "091d3620-f33a-47ee-f3e1-d31dd0e9b256"
      },
      "execution_count": null,
      "outputs": [
        {
          "output_type": "stream",
          "name": "stdout",
          "text": [
            "Drive already mounted at /content/drive; to attempt to forcibly remount, call drive.mount(\"/content/drive\", force_remount=True).\n"
          ]
        }
      ]
    },
    {
      "cell_type": "code",
      "source": [
        "# Data from the Target Domain (7,675,517×35)\n",
        "file_path_ads = \"/content/drive/MyDrive/AS_2025_Internship/train_data_ads.csv\"\n",
        "data_ads = pd.read_csv(file_path_ads)"
      ],
      "metadata": {
        "id": "nZaY4ise7TT4"
      },
      "execution_count": null,
      "outputs": []
    },
    {
      "cell_type": "markdown",
      "source": [
        "### 步驟三：找出 task id = 18800 的數據，儲存成另一個 dataframe。"
      ],
      "metadata": {
        "id": "SXZzQewFbV9J"
      }
    },
    {
      "cell_type": "code",
      "source": [
        "task_18800_data = data_ads[data_ads[\"task_id\"] == 18800]"
      ],
      "metadata": {
        "id": "2RwRrA-te7c_"
      },
      "execution_count": null,
      "outputs": []
    },
    {
      "cell_type": "markdown",
      "source": [
        "###步驟四：計算每個 column 的 unique value，剔除 unique value 大於 1000 的欄位。"
      ],
      "metadata": {
        "id": "Ex5xPO6vbZi5"
      }
    },
    {
      "cell_type": "code",
      "source": [
        "unique_counts = task_18800_data.nunique()\n",
        "columns_to_keep = unique_counts[unique_counts <= 1000].index\n",
        "filtered_data = task_18800_data[columns_to_keep]\n",
        "print(filtered_data.head())\n",
        "print(filtered_data.shape)"
      ],
      "metadata": {
        "colab": {
          "base_uri": "https://localhost:8080/"
        },
        "id": "2l3FUiT9e76I",
        "outputId": "5d92d052-ca8e-4451-c337-7d48cfc3d959"
      },
      "execution_count": null,
      "outputs": [
        {
          "output_type": "stream",
          "name": "stdout",
          "text": [
            "      label  age  gender  residence  city  city_rank  series_dev  \\\n",
            "1036      0    8       3         16   110          4          21   \n",
            "4982      0    3       2         22   253          2          32   \n",
            "6039      0    3       2         29   111          2          23   \n",
            "8522      0    5       2         22   203          4          15   \n",
            "8528      0    5       2         22   203          4          15   \n",
            "\n",
            "      series_group  emui_dev  device_name  ...  site_id  spread_app_id  \\\n",
            "1036             4        12          310  ...        1            312   \n",
            "4982             6        14          131  ...        1            312   \n",
            "6039             6        20          142  ...        1            312   \n",
            "8522             6        20          257  ...        1            312   \n",
            "8528             6        20          257  ...        1            312   \n",
            "\n",
            "      hispace_app_tags  app_second_class  app_score  ad_close_list_v001  \\\n",
            "1036                43                18       10.0               24107   \n",
            "4982                43                18       10.0               24107   \n",
            "6039                43                18       10.0               24107   \n",
            "8522                43                18       10.0               24107   \n",
            "8528                43                18       10.0               24107   \n",
            "\n",
            "      ad_close_list_v002  ad_close_list_v003  u_refreshTimes  u_feedLifeCycle  \n",
            "1036                1218                 173               7               17  \n",
            "4982                1218                 173               4               17  \n",
            "6039                1218                 173               0               11  \n",
            "8522                1218                 173               7               17  \n",
            "8528                1218                 173               7               17  \n",
            "\n",
            "[5 rows x 28 columns]\n",
            "(13418, 28)\n"
          ]
        }
      ]
    },
    {
      "cell_type": "markdown",
      "source": [
        "### 步驟五：以 label columns 為 Y，其餘的 columns 為 X，訓練 Logistic Regression model，繪製 ROC Curve。"
      ],
      "metadata": {
        "id": "07urlV-Sbdq7"
      }
    }
  ]
}